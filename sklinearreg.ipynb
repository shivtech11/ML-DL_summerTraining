{
 "cells": [
  {
   "cell_type": "code",
   "execution_count": 2,
   "metadata": {},
   "outputs": [],
   "source": [
    "from sklearn.linear_model import LinearRegression\n",
    "import pandas as pd\n",
    "import numpy as np"
   ]
  },
  {
   "cell_type": "code",
   "execution_count": 3,
   "metadata": {},
   "outputs": [],
   "source": [
    "dataset = pd.read_csv(\"SaratogaHouses.csv\")"
   ]
  },
  {
   "cell_type": "code",
   "execution_count": 6,
   "metadata": {},
   "outputs": [],
   "source": [
    "X = dataset['livingArea'].values\n",
    "y =dataset ['price'].values"
   ]
  },
  {
   "cell_type": "code",
   "execution_count": 8,
   "metadata": {},
   "outputs": [
    {
     "data": {
      "text/plain": [
       "array([ 906, 1953, 1944, 1944,  840, 1152, 2752, 1662, 1632, 1416],\n",
       "      dtype=int64)"
      ]
     },
     "execution_count": 8,
     "metadata": {},
     "output_type": "execute_result"
    }
   ],
   "source": [
    "X[:10]"
   ]
  },
  {
   "cell_type": "code",
   "execution_count": 10,
   "metadata": {},
   "outputs": [],
   "source": [
    "X = X.reshape(-1,1)"
   ]
  },
  {
   "cell_type": "code",
   "execution_count": 11,
   "metadata": {},
   "outputs": [
    {
     "data": {
      "text/plain": [
       "LinearRegression(copy_X=True, fit_intercept=True, n_jobs=None,\n",
       "         normalize=False)"
      ]
     },
     "execution_count": 11,
     "metadata": {},
     "output_type": "execute_result"
    }
   ],
   "source": [
    "reg = LinearRegression()\n",
    "reg.fit(X,y)"
   ]
  },
  {
   "cell_type": "code",
   "execution_count": 12,
   "metadata": {},
   "outputs": [],
   "source": [
    "y_pred = reg.predict(X)"
   ]
  },
  {
   "cell_type": "code",
   "execution_count": 13,
   "metadata": {},
   "outputs": [
    {
     "name": "stdout",
     "output_type": "stream",
     "text": [
      "[132500 181115 109000 155000  86060 120000 153000 170000  90000 122900]\n",
      "[115928.4169181  234367.71823171 233349.61535509 233349.61535509\n",
      " 108462.32915621 143756.56221241 324752.62916731 201449.05855429\n",
      " 198055.38229888 173620.91325997]\n"
     ]
    }
   ],
   "source": [
    "print(y[:10])\n",
    "print(y_pred[:10])"
   ]
  },
  {
   "cell_type": "code",
   "execution_count": 14,
   "metadata": {},
   "outputs": [],
   "source": [
    "from sklearn.model_selection import train_test_split"
   ]
  },
  {
   "cell_type": "code",
   "execution_count": 16,
   "metadata": {},
   "outputs": [],
   "source": [
    "x_train, x_test, y_train, y_test = train_test_split(X,y,test_size=0.2)"
   ]
  },
  {
   "cell_type": "code",
   "execution_count": 18,
   "metadata": {},
   "outputs": [
    {
     "name": "stdout",
     "output_type": "stream",
     "text": [
      "(1382L, 1L)\n",
      "(1382L,)\n",
      "(346L, 1L)\n",
      "(346L,)\n"
     ]
    }
   ],
   "source": [
    "print(x_train.shape)\n",
    "print(y_train.shape)\n",
    "print(x_test.shape)\n",
    "print(y_test.shape)"
   ]
  },
  {
   "cell_type": "code",
   "execution_count": 19,
   "metadata": {},
   "outputs": [
    {
     "name": "stdout",
     "output_type": "stream",
     "text": [
      "(1728L, 1L)\n",
      "(1728L,)\n"
     ]
    }
   ],
   "source": [
    "print(X.shape)\n",
    "print(y.shape)"
   ]
  },
  {
   "cell_type": "code",
   "execution_count": 20,
   "metadata": {},
   "outputs": [
    {
     "data": {
      "text/plain": [
       "LinearRegression(copy_X=True, fit_intercept=True, n_jobs=None,\n",
       "         normalize=False)"
      ]
     },
     "execution_count": 20,
     "metadata": {},
     "output_type": "execute_result"
    }
   ],
   "source": [
    "reg_2 = LinearRegression()\n",
    "reg_2.fit(x_train,y_train)"
   ]
  },
  {
   "cell_type": "code",
   "execution_count": 21,
   "metadata": {},
   "outputs": [],
   "source": [
    "y_pred = reg_2.predict(x_test)"
   ]
  },
  {
   "cell_type": "code",
   "execution_count": 22,
   "metadata": {},
   "outputs": [
    {
     "name": "stdout",
     "output_type": "stream",
     "text": [
      "[274562.94455299 225625.02728013 182748.22820162 132014.42405636\n",
      " 120116.67352672 224390.35505536 160075.15643758 222482.22525343\n",
      " 193972.52115411 310256.19614191 149973.29278034 254246.97430898\n",
      " 165687.30291383 173095.33626247 202054.0120799  221808.76767628\n",
      " 160524.12815568 143687.68872695 202951.9555161  237522.77780977\n",
      " 188921.58932549 143014.2311498  117647.32907717 270185.47030152\n",
      " 192176.63428171 204972.32824755 136504.14123735 325296.74869825\n",
      " 181401.31304732 206094.7575428  191952.14842266 271195.65666724\n",
      " 153565.06652514 248747.07076226 181401.31304732 190492.99033883\n",
      " 133698.06799923 117647.32907717 114504.52705047 181401.31304732\n",
      " 143238.71700885 168381.13322243 181401.31304732 219114.93736769\n",
      " 148177.40590794 156258.89683374 131340.96647921 362336.91544147\n",
      " 123034.98969436 297348.25924655 117647.32907717 200482.61106655\n",
      " 184544.11507401 193186.82064743 136504.14123735 340786.27297269\n",
      " 202278.49793895 181401.31304732 221584.28181723 169615.8054472\n",
      " 203064.19844562 173319.82212152 153565.06652514 270858.92787867\n",
      " 319909.08808105 380071.2983064  120341.15938577 323388.61889633\n",
      " 196217.3797446  324174.319403   179268.69738634 248522.58490321\n",
      " 161197.58573283 263114.16574145 166809.73220908 252563.33036611\n",
      " 221359.79595818 117647.32907717 232808.57476972 140993.85841835\n",
      " 119555.45887909 146830.49075365 274562.94455299 304195.07794757\n",
      " 161197.58573283 171299.44939008 286123.96629406 212380.36159619\n",
      " 188135.88881881 136504.14123735 159064.97007186 217319.05049529\n",
      " 235951.37679642 297572.7451056  108667.89471518 200482.61106655\n",
      " 123034.98969436 262889.6798824  195768.40802651 157605.81198804\n",
      " 126177.79172106 267379.3970634  123034.98969436 131116.48062016\n",
      " 294317.70014937 193972.52115411 213278.30503239 147728.43418984\n",
      " 141667.3159955  170738.23474245 128422.65031156 190829.71912741\n",
      " 133810.31092876 155248.71046801 243920.62479269 146942.73368317\n",
      " 181401.31304732 181401.31304732 180840.09839969 181401.31304732\n",
      " 227084.18536395 195768.40802651 194870.46459031 266930.4253453\n",
      " 203400.9272342  274562.94455299 165238.33119573 239767.63640027\n",
      " 291623.86984078 124381.90484866 202054.0120799  155585.43925659\n",
      " 190156.26155026 227084.18536395 186676.73073499 184544.11507401\n",
      " 264124.35210717 296562.55873987 252675.57329563 199360.1817713\n",
      " 133136.85335161 196217.3797446  143238.71700885 229665.77274303\n",
      " 311154.13957811 174666.73727582 158054.78370614 242236.98084982\n",
      " 204298.8706704  129096.10788871 222931.19697153 262777.43695287\n",
      " 390622.13368174 185217.57265116 260420.33543285 303970.59208852\n",
      " 148177.40590794 292521.81327698 269175.28393579 144585.63216315\n",
      " 117647.32907717 267603.88292245 140544.88670025 371091.86394441\n",
      " 202951.9555161  181401.31304732 152218.15137084 273440.51525774\n",
      " 158952.72714234 307225.63704474 329898.70880877 181738.04183589\n",
      " 189033.83225501 181401.31304732 238420.72124597 233482.03234687\n",
      " 338429.17145266 307113.39411521 319684.602222   344827.01843558\n",
      " 188360.37467786 149524.32106224 121912.56039912 306215.45067901\n",
      " 233482.03234687 121239.10282197 101484.34722558 117198.35735907\n",
      " 219563.90908579 117647.32907717 325296.74869825 139422.457405\n",
      " 209237.55956949 242236.98084982 314970.39918196 117198.35735907\n",
      " 287358.63851883 244257.35358127 153116.09480704 299144.14611895\n",
      " 170850.47767198 178370.75395014 320021.33101058 173095.33626247\n",
      " 230451.4732497  194197.00701316 152105.90844132 172870.85040342\n",
      " 263114.16574145 207104.94390852 201156.0686437  317439.74363151\n",
      " 121351.34575149 226747.45657538 128422.65031156 196217.3797446\n",
      " 147952.92004889 249981.74298704 148177.40590794 193299.06357696\n",
      " 151095.72207559 282195.46376068 301501.24763897 193186.82064743\n",
      " 289603.49710933 375357.09526636 137851.05639165 260644.8212919\n",
      " 268838.55514722 224951.56970298 228767.82930683 230339.23032018\n",
      " 256267.34704043 223155.68283058 160748.61401473 215298.67776384\n",
      " 181401.31304732 181289.07011779 283430.13598546 160299.64229663\n",
      " 240216.60811837 295215.64358557 177809.53930252 242685.95256792\n",
      " 117647.32907717 368622.51949486 257950.9909833  216645.59291814\n",
      " 181401.31304732 225625.02728013 170738.23474245 305766.47896091\n",
      " 144585.63216315 169840.29130625 181401.31304732 168830.10494053\n",
      " 156707.86855184 130106.29425443 261093.79301    173544.30798057\n",
      " 187574.67417119 186901.21659404 276807.80314349 133810.31092876\n",
      " 227420.91415253 185442.05851021 202054.0120799  154911.98167944\n",
      " 246165.48338319 126177.79172106 241002.30862504 249869.50005751\n",
      " 385234.47306455 172197.39282627 263563.13745955 219114.93736769\n",
      " 127412.46394584 392193.53469509 123034.98969436 297460.50217607\n",
      " 247624.64146701 162432.25795761 109565.83815138 260420.33543285\n",
      " 198462.2383351  366040.93211579 206319.24340185 106647.52198373\n",
      " 290501.44054553 272205.84303297 123034.98969436 383999.80083978\n",
      " 367724.57605866 143014.2311498  337755.71387551 138636.75689833\n",
      " 118320.78665432 168830.10494053 262889.6798824  190829.71912741\n",
      " 172870.85040342 274562.94455299 239767.63640027 193972.52115411\n",
      " 203513.17016372 161422.07159188 241339.03741362 267042.66827482\n",
      " 209911.01714664 235165.67628975 133810.31092876 184544.11507401\n",
      " 237971.74952787 347857.57753276 342357.67398603 167034.21806813\n",
      " 315643.85675911 202054.0120799  379285.59779973 133810.31092876\n",
      " 158054.78370614 169615.8054472  184544.11507401 132687.88163351\n",
      " 255144.91774518 213727.27675049 195992.89388555 276134.34556634\n",
      " 280399.57688829 162993.47260523 164115.90190048 124830.87656676\n",
      " 217206.80756576 203849.8989523  330908.89517449 134259.28264686\n",
      " 152667.12308894 193972.52115411 298246.20268275 166136.27463193\n",
      " 218665.96564959 233482.03234687 205982.51461327 184993.08679211\n",
      " 217768.02221339 159064.97007186]\n"
     ]
    }
   ],
   "source": [
    "print(y_pred)"
   ]
  },
  {
   "cell_type": "code",
   "execution_count": 23,
   "metadata": {},
   "outputs": [],
   "source": [
    "from sklearn.metrics import mean_squared_error"
   ]
  },
  {
   "cell_type": "code",
   "execution_count": 24,
   "metadata": {},
   "outputs": [],
   "source": [
    "mse = mean_squared_error(y_test,y_pred)"
   ]
  },
  {
   "cell_type": "code",
   "execution_count": 25,
   "metadata": {},
   "outputs": [],
   "source": [
    "rmse = np.sqrt(mse)"
   ]
  },
  {
   "cell_type": "code",
   "execution_count": 27,
   "metadata": {},
   "outputs": [
    {
     "name": "stdout",
     "output_type": "stream",
     "text": [
      "('ROOT MEAN SQUARE', 63686.643727607894)\n"
     ]
    }
   ],
   "source": [
    "print(\"ROOT MEAN SQUARE\", rmse)"
   ]
  },
  {
   "cell_type": "code",
   "execution_count": 28,
   "metadata": {},
   "outputs": [],
   "source": [
    "from sklearn.preprocessing import StandardScaler"
   ]
  },
  {
   "cell_type": "code",
   "execution_count": 29,
   "metadata": {},
   "outputs": [],
   "source": [
    "std = StandardScaler()"
   ]
  },
  {
   "cell_type": "code",
   "execution_count": 30,
   "metadata": {},
   "outputs": [
    {
     "name": "stderr",
     "output_type": "stream",
     "text": [
      "C:\\ProgramData\\Anaconda2\\lib\\site-packages\\sklearn\\utils\\validation.py:595: DataConversionWarning: Data with input dtype int64 was converted to float64 by StandardScaler.\n",
      "  warnings.warn(msg, DataConversionWarning)\n"
     ]
    }
   ],
   "source": [
    "X = std.fit_transform(X)"
   ]
  },
  {
   "cell_type": "code",
   "execution_count": 32,
   "metadata": {},
   "outputs": [
    {
     "data": {
      "text/plain": [
       "array([[-1.36985441],\n",
       "       [ 0.31951971],\n",
       "       [ 0.30499787],\n",
       "       [ 0.30499787],\n",
       "       [-1.47634791],\n",
       "       [-0.9729241 ],\n",
       "       [ 1.60873645],\n",
       "       [-0.1500198 ],\n",
       "       [-0.19842594],\n",
       "       [-0.54695011]])"
      ]
     },
     "execution_count": 32,
     "metadata": {},
     "output_type": "execute_result"
    }
   ],
   "source": [
    "X[:10]"
   ]
  },
  {
   "cell_type": "code",
   "execution_count": 33,
   "metadata": {},
   "outputs": [],
   "source": [
    "y = y.reshape(-1,1)"
   ]
  },
  {
   "cell_type": "code",
   "execution_count": 34,
   "metadata": {},
   "outputs": [],
   "source": [
    "y = std.fit_transform(y)"
   ]
  },
  {
   "cell_type": "code",
   "execution_count": 35,
   "metadata": {},
   "outputs": [
    {
     "data": {
      "text/plain": [
       "array([[-0.80748259],\n",
       "       [-0.31349249],\n",
       "       [-1.04627242],\n",
       "       [-0.57885403],\n",
       "       [-1.27937193],\n",
       "       [-0.93449845],\n",
       "       [-0.59917657],\n",
       "       [-0.42643499],\n",
       "       [-1.23933653],\n",
       "       [-0.90503077]])"
      ]
     },
     "execution_count": 35,
     "metadata": {},
     "output_type": "execute_result"
    }
   ],
   "source": [
    "y[:10]"
   ]
  },
  {
   "cell_type": "code",
   "execution_count": 36,
   "metadata": {},
   "outputs": [],
   "source": [
    "x_train, x_test, y_train, y_test = train_test_split(X,y, test_size=0.2)"
   ]
  },
  {
   "cell_type": "code",
   "execution_count": 37,
   "metadata": {},
   "outputs": [],
   "source": [
    "reg_3 = LinearRegression()"
   ]
  },
  {
   "cell_type": "code",
   "execution_count": 38,
   "metadata": {},
   "outputs": [
    {
     "data": {
      "text/plain": [
       "LinearRegression(copy_X=True, fit_intercept=True, n_jobs=None,\n",
       "         normalize=False)"
      ]
     },
     "execution_count": 38,
     "metadata": {},
     "output_type": "execute_result"
    }
   ],
   "source": [
    "reg_3.fit(x_train,y_train)"
   ]
  },
  {
   "cell_type": "code",
   "execution_count": 39,
   "metadata": {},
   "outputs": [],
   "source": [
    "y_pred = reg_3.predict(x_test)"
   ]
  },
  {
   "cell_type": "code",
   "execution_count": 40,
   "metadata": {},
   "outputs": [],
   "source": [
    "mse = mean_squared_error(y_test,y_pred)"
   ]
  },
  {
   "cell_type": "code",
   "execution_count": 41,
   "metadata": {},
   "outputs": [],
   "source": [
    "rmse = np.sqrt(mse)"
   ]
  },
  {
   "cell_type": "code",
   "execution_count": 42,
   "metadata": {},
   "outputs": [
    {
     "name": "stdout",
     "output_type": "stream",
     "text": [
      "0.6706674805953899\n"
     ]
    }
   ],
   "source": [
    "print(rmse)"
   ]
  },
  {
   "cell_type": "code",
   "execution_count": 43,
   "metadata": {},
   "outputs": [
    {
     "name": "stdout",
     "output_type": "stream",
     "text": [
      "[[-0.95412363]\n",
      " [ 0.72388363]\n",
      " [ 0.13929485]\n",
      " [ 0.56218886]\n",
      " [ 0.10876507]\n",
      " [ 0.04996697]\n",
      " [-0.63073409]\n",
      " [-0.09024388]\n",
      " [-0.72345417]\n",
      " [-0.89306407]]\n"
     ]
    }
   ],
   "source": [
    "print(y_pred[:10])"
   ]
  },
  {
   "cell_type": "code",
   "execution_count": null,
   "metadata": {},
   "outputs": [],
   "source": []
  }
 ],
 "metadata": {
  "kernelspec": {
   "display_name": "Python 2",
   "language": "python",
   "name": "python2"
  },
  "language_info": {
   "codemirror_mode": {
    "name": "ipython",
    "version": 2
   },
   "file_extension": ".py",
   "mimetype": "text/x-python",
   "name": "python",
   "nbconvert_exporter": "python",
   "pygments_lexer": "ipython2",
   "version": "2.7.16"
  }
 },
 "nbformat": 4,
 "nbformat_minor": 2
}
