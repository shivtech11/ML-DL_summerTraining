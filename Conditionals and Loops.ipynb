{
 "cells": [
  {
   "cell_type": "markdown",
   "metadata": {},
   "source": [
    "<font color = 'black' size = 5>Booleans and Operators</font>"
   ]
  },
  {
   "cell_type": "markdown",
   "metadata": {},
   "source": [
    "\n",
    "What are operators? Operators are special symbols in Python that carry out arithmetic or logical computation. The value that the operator operates on is called the operand. There are several types of operators in Python:      \n",
    "<ol>\n",
    "    <li><strong>Arithmetic operators</strong>: Arithmetic operators are used to perform mathematical operations like addition, subtraction, multiplication etc.</li>    \n",
    "    <li><strong>Relational operators</strong>: Relational operators are used to compare values. It either returns True or False according to the condition.</li>    \n",
    "    <li><strong>Logical operators</strong>: Logical operators are the ‘and’, ‘or’ and ‘not’ operators.</li>    \n",
    "    <li><strong>Bitwise operators</strong>: Bitwise operators act on operands as if they were string of binary digits. It operates bit by bit, hence the name.</li>    \n",
    "    <li><strong>Assignment operators</strong>: Assignment operators are used in Python to assign values to variables.</li>    \n",
    "    <li><strong>Special operators</strong>: Python language offers some special type of operators like the identity operator or the membership  operator. They are described below with examples.\n",
    "        <ol>\n",
    "            <li>Identity operators: ‘is’ and ‘is not’ are the identity operators in Python. They are used to check if two values (or variables) are located on the same part of the memory. Two variables that are equal does not imply that they are identical</li>\n",
    "            <li>Membership operators: in and not in are the membership operators in Python. They are used to test whether a value or   variable is found in a sequence (string, list, tuple, set and dictionary).</li>\n",
    "        </ol>\n",
    "    </li>\n",
    "</ol>\n",
    "Relational operators between two variables (say ‘a’ and ‘b’) will return True if the relation between ‘a’ and ‘b’ evaluates to true, else False will be returned. The values True and False are called Boolean variables i.e. Booleans are variables which contain truth values. \n",
    "There are many relational operators used in Python, for instance greater (>), equality (=) and so on. Suppose if ‘a’ were 10 and ‘b’ were 20, then a>b will return False because ‘a’ is obviously lesser than ‘b’. </font>\n"
   ]
  },
  {
   "cell_type": "code",
   "execution_count": 1,
   "metadata": {},
   "outputs": [
    {
     "name": "stdout",
     "output_type": "stream",
     "text": [
      "30\n",
      "-930\n",
      "True\n",
      "160\n",
      "False\n"
     ]
    }
   ],
   "source": [
    "# Declaring a Boolean variable\n",
    "myBool = True\n",
    "\n",
    "# Various types of operators\n",
    "\n",
    "result = 10 + 20    # Arithmetic operators\n",
    "diff = 10 - 20 * 47 # Arithmetic operators\n",
    "print(result)\n",
    "print(diff)\n",
    "\n",
    "var1 = 2 # Assignment operator\n",
    "var2 = 56\n",
    "\n",
    "myBool = var1 <= var2 # Relational operator\n",
    "print(myBool)\n",
    "\n",
    "bit = 40\n",
    "bitop = 40 << 2 # Bitwise Left Shift operator\n",
    "print(bitop)\n",
    "\n",
    "a = True\n",
    "b = False\n",
    "c = a and b # Logical operator\n",
    "print(c)"
   ]
  },
  {
   "cell_type": "markdown",
   "metadata": {},
   "source": [
    "<font color = 'black' size = 5>Conditionals</font>"
   ]
  },
  {
   "cell_type": "markdown",
   "metadata": {},
   "source": [
    "<p font-size=10>Decision making is anticipation of conditions occurring while execution of the program and specifying actions taken according to the conditions.\n",
    "Decision structures evaluate multiple expressions which produce TRUE or FALSE as outcome. You need to determine which action to take and which statements to execute if outcome is TRUE or FALSE otherwise.\n",
    "This is where conditional statements are used. Conditional statements deal with conditions – what to do if something is this way? What to do if it’s not? \n",
    "The conditionals offered in Python are ‘if’, ‘else if’ (written as elif) and ‘else’. We start with writing an if statement and then writing the commands (what to execute if the if statement holds true), then we write elif (only if and when required) and write the commands under it, and finally the else statement. Note that indentation is very, very important in Python, because unlike in other languages you don’t have brackets here to contain multiple commands under a single if statement.\n",
    "</p>"
   ]
  },
  {
   "cell_type": "code",
   "execution_count": 2,
   "metadata": {},
   "outputs": [
    {
     "name": "stdout",
     "output_type": "stream",
     "text": [
      "200\n"
     ]
    }
   ],
   "source": [
    "a = 100\n",
    "b = 200\n",
    "\n",
    "if a > b:    # If statement\n",
    "    print(a)\n",
    "elif a < b:    # Else if statement\n",
    "    print(b)\n",
    "else:        # Else statement\n",
    "    print(a+b)"
   ]
  },
  {
   "cell_type": "markdown",
   "metadata": {},
   "source": [
    "<font color = 'black' size =5>Loops</font>"
   ]
  },
  {
   "cell_type": "markdown",
   "metadata": {},
   "source": [
    "<p>In general, statements are executed sequentially: The first statement in a function is executed first, followed by the second, and so on. There may be a situation when you need to execute a block of code several number of times.\n",
    "Programming languages provide various control structures that allow for more complicated execution paths. A loop statement allows us to execute a statement or group of statements multiple times. We can control the number of times it is being done, and what all tasks are being done. \n",
    "There are multiple loops offered in Python, and the most basic one of them is the ‘while’ loop. Also, we don’t specify our iteration statement in a bracket (as we do in other languages), but instead write ‘while’ and then our statement. We then indent the loop statements below, and once we’re done with the loop statements we continue writing our program un-indented."
   ]
  },
  {
   "cell_type": "code",
   "execution_count": 3,
   "metadata": {},
   "outputs": [
    {
     "name": "stdout",
     "output_type": "stream",
     "text": [
      "1\n",
      "3\n",
      "5\n",
      "7\n",
      "9\n"
     ]
    }
   ],
   "source": [
    "n = 9\n",
    "i = 0\n",
    "\n",
    "# While loop\n",
    "while i<n:\n",
    "    print(i+1)\n",
    "    i = i+2\n",
    "\n"
   ]
  },
  {
   "cell_type": "markdown",
   "metadata": {},
   "source": [
    "<font color = 'black' size = 5>For Loop</font><br><br>\n",
    "Next is the ‘for’ loop. In a for loop we can specify the number of iterations by using the range() function. Range(a,b) will return all numbers between a and b (including a, excluding b), with an increment of 1. We can give it the step size (the amount by which the iterator is incremented) in input as well; for instance range(1,10,2) will print the alternate elements between 1 and 10 because step size is 2.\n",
    "There is one important type of statement to know, and that is the loop control statements. Loop control statements change execution from its normal sequence. When execution leaves a scope, all automatic objects that were created in that scope are destroyed. There are three types of loop control statements:\n",
    "    <ol>\n",
    "        <li><strong>break</strong> statement: It is used to break out of the loop the moment some condition occurs, and is useful for optimization (the loop doesn’t have to run unnecessarily once some required condition is fulfilled). </li>    \n",
    "        <li><strong>continue</strong> statement: It causes the loop to skip the remainder of its body and immediately retest its condition prior to reiterating.</li>    \n",
    "        <li><strong>pass</strong> statement: The pass statement in Python is used when a statement is required syntactically but you do not want any command or code to execute.</li>\n",
    "        \n",
    "    </ol>    \n"
   ]
  },
  {
   "cell_type": "code",
   "execution_count": 4,
   "metadata": {},
   "outputs": [
    {
     "name": "stdout",
     "output_type": "stream",
     "text": [
      "1\n",
      "6\n",
      "11\n",
      "1\n",
      "3\n",
      "4\n",
      "5\n",
      "6\n"
     ]
    }
   ],
   "source": [
    "# For loop\n",
    "for i in range(1,15,5):\n",
    "    print(i)\n",
    "\n",
    "# Loop control statements\n",
    "for i in range(1,20):\n",
    "    if i == 2:\n",
    "        continue\n",
    "    elif i==7:\n",
    "        break\n",
    "    print(i)\n"
   ]
  },
  {
   "cell_type": "markdown",
   "metadata": {},
   "source": [
    "<p>There is a way to iterate fast and more conveniently over strings, arrays etc. using a ‘for’ loop. Suppose we have a string s, and we wish to iterate over it. We simply write ‘for x in s:’ and continue with our loop statements. Note that we did not have to write the range function or specify the string size; we simply wrote the string name and that is enough for iterating over every element.     </p>\n",
    "\n",
    "</p>"
   ]
  },
  {
   "cell_type": "code",
   "execution_count": 5,
   "metadata": {},
   "outputs": [
    {
     "name": "stdout",
     "output_type": "stream",
     "text": [
      "C\n",
      "o\n",
      "d\n",
      "i\n",
      "n\n",
      "g\n",
      " \n",
      "N\n",
      "i\n",
      "n\n",
      "j\n",
      "a\n",
      "s\n"
     ]
    }
   ],
   "source": [
    "# Fast iteration\n",
    "myStr = 'Coding Ninjas'\n",
    "for i in myStr:\n",
    "    print(i)"
   ]
  },
  {
   "cell_type": "markdown",
   "metadata": {},
   "source": [
    "<font size=5>Functions</font>"
   ]
  },
  {
   "cell_type": "markdown",
   "metadata": {},
   "source": [
    "<p>You must have come across functions on several occasions. Functions are used for writing blocks of code that can be used over and over again as per the demands of the program. A function is a block of organized, reusable code that is used to perform a single, related action. Functions provide better modularity for your application and a high degree of code reusing.</p><p> Functions can be written in various languages and for various purposes. Python gives you many built-in functions like print(), etc. but you can also create your own functions. These functions are called user-defined functions. Let's see how they're done in Python.</p>\n",
    "You can define functions to provide the required functionality. Here are simple rules to define a function in Python.\n",
    "<ol>\n",
    "<li>Function blocks begin with the keyword def followed by the function name and parentheses ( ( ) ).</li><li>\n",
    "\n",
    "Any input parameters or arguments should be placed within these parentheses. You can also define parameters inside these parentheses.</li><li>\n",
    "\n",
    "The first statement of a function can be an optional statement - the documentation string of the function or docstring.</li><li>\n",
    "\n",
    "The code block within every function starts with a colon (:) and is indented.</li><li>\n",
    "\n",
    "The statement return [expression] exits a function, optionally passing back an expression to the caller. A return statement with no arguments is the same as return None. </li>"
   ]
  },
  {
   "cell_type": "code",
   "execution_count": 6,
   "metadata": {},
   "outputs": [
    {
     "name": "stdout",
     "output_type": "stream",
     "text": [
      "80\n"
     ]
    }
   ],
   "source": [
    "# Functions in Python\n",
    "\n",
    "def product(x,y): \n",
    "    return x*y\n",
    "\n",
    "X = 20\n",
    "Y = 4\n",
    "print(product(X,Y))"
   ]
  },
  {
   "cell_type": "code",
   "execution_count": 7,
   "metadata": {},
   "outputs": [
    {
     "name": "stdout",
     "output_type": "stream",
     "text": [
      "20\n"
     ]
    }
   ],
   "source": [
    "def demo(a):\n",
    "    a += 1 \n",
    "a = 20\n",
    "demo(a)\n",
    "print(a)"
   ]
  },
  {
   "cell_type": "markdown",
   "metadata": {},
   "source": [
    "<p>We can provide a function with default arguments so we need not bother giving it all arguments during calls. Let us see an example.</p>"
   ]
  },
  {
   "cell_type": "code",
   "execution_count": 8,
   "metadata": {},
   "outputs": [
    {
     "name": "stdout",
     "output_type": "stream",
     "text": [
      "30\n",
      "33\n",
      "34\n"
     ]
    }
   ],
   "source": [
    "def result(x=10,y=20):\n",
    "    a = x + y\n",
    "    return a\n",
    "\n",
    "print(result()) # All default arguments will be used to calculate results.\n",
    "print(result(13)) # 13 is the value we provide for x. Y will have default value 20.\n",
    "print(result(11,23)) # These are the values which will be used to compute the results."
   ]
  },
  {
   "cell_type": "markdown",
   "metadata": {},
   "source": [
    "We can also pass any number of arguments we want; unlike in many other languages, we can have variable number of arguments in Python by using the *args argument."
   ]
  },
  {
   "cell_type": "code",
   "execution_count": 1,
   "metadata": {},
   "outputs": [
    {
     "name": "stdout",
     "output_type": "stream",
     "text": [
      "(10, 20)\n",
      "(10, 100, 2000)\n"
     ]
    }
   ],
   "source": [
    "def show(*args):\n",
    "    print(args)\n",
    "    \n",
    "show(10,20)\n",
    "show(10,100,2000)"
   ]
  },
  {
   "cell_type": "code",
   "execution_count": null,
   "metadata": {},
   "outputs": [],
   "source": []
  },
  {
   "cell_type": "code",
   "execution_count": null,
   "metadata": {},
   "outputs": [],
   "source": []
  }
 ],
 "metadata": {
  "kernelspec": {
   "display_name": "Python 3",
   "language": "python",
   "name": "python3"
  },
  "language_info": {
   "codemirror_mode": {
    "name": "ipython",
    "version": 3
   },
   "file_extension": ".py",
   "mimetype": "text/x-python",
   "name": "python",
   "nbconvert_exporter": "python",
   "pygments_lexer": "ipython3",
   "version": "3.7.3"
  }
 },
 "nbformat": 4,
 "nbformat_minor": 2
}
